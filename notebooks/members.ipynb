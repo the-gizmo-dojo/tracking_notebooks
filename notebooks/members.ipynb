{
 "cells": [
  {
   "cell_type": "markdown",
   "metadata": {},
   "source": [
    "## Goes through the transactions and members csvs and looks for members who have not paid or someone paying who is not listed as a member and displays member count for the inspected time frame."
   ]
  },
  {
   "cell_type": "markdown",
   "metadata": {},
   "source": [
    "*In the following cell, insert the year, month, and day of month range you want to inspect*"
   ]
  },
  {
   "cell_type": "code",
   "execution_count": null,
   "metadata": {},
   "outputs": [],
   "source": [
    "year = 2020\n",
    "month = 5\n",
    "days = (1, 30)"
   ]
  },
  {
   "cell_type": "code",
   "execution_count": null,
   "metadata": {},
   "outputs": [],
   "source": [
    "from datetime import datetime\n",
    "import pandas as pd"
   ]
  },
  {
   "cell_type": "code",
   "execution_count": null,
   "metadata": {},
   "outputs": [],
   "source": [
    "def str_to_dt(date_string):\n",
    "    return datetime.strptime(date_string, '%m/%d/%Y')"
   ]
  },
  {
   "cell_type": "code",
   "execution_count": null,
   "metadata": {},
   "outputs": [],
   "source": [
    "#import csv's\n",
    "members_df = pd.read_csv('/home/data/members.csv')\n",
    "transactions_df = pd.read_csv('/home/data/transactions.csv')"
   ]
  },
  {
   "cell_type": "code",
   "execution_count": null,
   "metadata": {},
   "outputs": [],
   "source": [
    "# add a more useful date column to transactions_df\n",
    "transactions_df[\"datetime\"] = transactions_df['Date'].apply(str_to_dt)"
   ]
  },
  {
   "cell_type": "code",
   "execution_count": null,
   "metadata": {},
   "outputs": [],
   "source": [
    "# I only care about paypal payments\n",
    "# this is future proofing\n",
    "transactions_df = transactions_df[(transactions_df['Account Name'] == 'PayPal Account')]"
   ]
  },
  {
   "cell_type": "code",
   "execution_count": null,
   "metadata": {},
   "outputs": [],
   "source": [
    "# I only care about last completed month\n",
    "transactions_df = transactions_df[ (transactions_df['datetime']>pd.Timestamp(year,month,days[0])) & (transactions_df['datetime']<pd.Timestamp(year,month,days[1])) ]"
   ]
  },
  {
   "cell_type": "code",
   "execution_count": null,
   "metadata": {},
   "outputs": [],
   "source": [
    "# I only care about payments (marked as 'income' by pp)\n",
    "transactions_df = transactions_df[(transactions_df['Category'] == 'Income')]"
   ]
  },
  {
   "cell_type": "code",
   "execution_count": null,
   "metadata": {},
   "outputs": [],
   "source": [
    "transactions_df = transactions_df.reset_index()"
   ]
  },
  {
   "cell_type": "code",
   "execution_count": null,
   "metadata": {},
   "outputs": [],
   "source": [
    "members_list = members_df['Name'].tolist()"
   ]
  },
  {
   "cell_type": "code",
   "execution_count": null,
   "metadata": {},
   "outputs": [],
   "source": [
    "indx = len('Recurring ') # lazy\n",
    "payers_list = [element[indx:] for element in transactions_df['Description'].tolist()]"
   ]
  },
  {
   "cell_type": "code",
   "execution_count": null,
   "metadata": {},
   "outputs": [],
   "source": [
    "# these members and payers will almost always be cleared (usually by nickname or family plan)\n",
    "cleared_members = []\n",
    "# nicknames\n",
    "cleared_members += ['Nate Swanberg', 'Andy Sheldon', 'Mia Sherman', 'Steve Graves', 'Tom Germon', 'Satar Muzamil']\n",
    "cleared_payers = ['Nathaniel Swanberg', 'Andrew Sheldon', 'Miamakes', 'Stephen Graves', 'Thomas Germon', 'Art By']\n",
    "# family members\n",
    "cleared_members += ['Ashley Keller', \"William LeBlanc\"]\n",
    "# kickstarter\n",
    "cleared_members += ['Gary Skinner', 'John Taylor']\n",
    "# yearly subscription\n",
    "cleared_members += ['Tommy Philips']"
   ]
  },
  {
   "cell_type": "code",
   "execution_count": null,
   "metadata": {},
   "outputs": [],
   "source": [
    "members_to_clear = []\n",
    "for member in members_list:\n",
    "    if member not in payers_list and member not in cleared_members:\n",
    "        members_to_clear.append(member)"
   ]
  },
  {
   "cell_type": "code",
   "execution_count": null,
   "metadata": {},
   "outputs": [],
   "source": [
    "payers_to_clear = []\n",
    "for payer in payers_list:\n",
    "    if payer not in members_list and payer not in cleared_payers:\n",
    "        payers_to_clear.append(payer)"
   ]
  },
  {
   "cell_type": "code",
   "execution_count": null,
   "metadata": {},
   "outputs": [],
   "source": [
    "yes = ['yes', 'Yes', 'y', 'Y']\n",
    "no = ['no', 'No', 'n', 'N']\n",
    "for name in members_to_clear:\n",
    "    clear = '!'\n",
    "    while clear not in yes and clear not in no:\n",
    "        clear = input('clear '+ name+'? ')\n",
    "    if clear in yes:\n",
    "        cleared_members.append(name)\n",
    "    "
   ]
  },
  {
   "cell_type": "code",
   "execution_count": null,
   "metadata": {},
   "outputs": [],
   "source": [
    "for payer in payers_to_clear:\n",
    "    clear = '!'\n",
    "    while clear not in yes and clear not in no:\n",
    "        clear = input('clear '+ payer+'? ')\n",
    "    if clear in yes:\n",
    "        cleared_payers.append(payer)\n",
    "    "
   ]
  },
  {
   "cell_type": "code",
   "execution_count": null,
   "metadata": {},
   "outputs": [],
   "source": [
    "uncleared_members = [member for member in members_to_clear if member not in cleared_members]\n",
    "uncleared_payers = [payer for payer in payers_to_clear if payer not in cleared_payers]"
   ]
  },
  {
   "cell_type": "code",
   "execution_count": null,
   "metadata": {},
   "outputs": [],
   "source": [
    "if len(uncleared_members) > 0:\n",
    "    print('I couldn\\'t clear non-payment for the following (they may have cancelled): ')\n",
    "    for name in uncleared_members:\n",
    "        print('- '+name)\n",
    "        \n",
    "if len(uncleared_payers) > 0:\n",
    "    print('the following payers are not listed as members:')\n",
    "    for payer in uncleared_payers:\n",
    "        print(payer)\n"
   ]
  },
  {
   "cell_type": "code",
   "execution_count": null,
   "metadata": {},
   "outputs": [],
   "source": [
    "print(\"number of confirmed members:\")\n",
    "print(len(members_list) - len(uncleared_members))"
   ]
  },
  {
   "cell_type": "code",
   "execution_count": null,
   "metadata": {},
   "outputs": [],
   "source": []
  },
  {
   "cell_type": "code",
   "execution_count": null,
   "metadata": {},
   "outputs": [],
   "source": []
  }
 ],
 "metadata": {
  "kernelspec": {
   "display_name": "Python 3",
   "language": "python",
   "name": "python3"
  },
  "language_info": {
   "codemirror_mode": {
    "name": "ipython",
    "version": 3
   },
   "file_extension": ".py",
   "mimetype": "text/x-python",
   "name": "python",
   "nbconvert_exporter": "python",
   "pygments_lexer": "ipython3",
   "version": "3.7.6"
  }
 },
 "nbformat": 4,
 "nbformat_minor": 4
}
