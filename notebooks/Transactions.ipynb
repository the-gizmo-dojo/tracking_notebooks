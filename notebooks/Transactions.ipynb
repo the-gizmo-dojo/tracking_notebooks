{
 "cells": [
  {
   "cell_type": "markdown",
   "metadata": {},
   "source": [
    "### Inspects the transactions CSV and breaks down payments for the month by payment type, the total membership revenue, the totals for each day of the month, and finally displays a graph of all months cumulative membership income"
   ]
  },
  {
   "cell_type": "code",
   "execution_count": 1,
   "metadata": {},
   "outputs": [],
   "source": [
    "import pandas as pd\n",
    "from datetime import datetime\n",
    "from matplotlib import pyplot as plt"
   ]
  },
  {
   "cell_type": "code",
   "execution_count": 2,
   "metadata": {},
   "outputs": [],
   "source": [
    "plt.rcParams['figure.figsize'] = [15, 7]"
   ]
  },
  {
   "cell_type": "code",
   "execution_count": 3,
   "metadata": {},
   "outputs": [],
   "source": [
    "def str_to_dt(date_string):\n",
    "    return datetime.strptime(date_string, '%m/%d/%Y')"
   ]
  },
  {
   "cell_type": "code",
   "execution_count": 4,
   "metadata": {},
   "outputs": [],
   "source": [
    "def str_to_dom(date_string):\n",
    "    dt = datetime.strptime(date_string, '%m/%d/%Y')\n",
    "    return int(dt.day)"
   ]
  },
  {
   "cell_type": "code",
   "execution_count": 5,
   "metadata": {},
   "outputs": [],
   "source": [
    "df = pd.read_csv('/home/data/transactions.csv')"
   ]
  },
  {
   "cell_type": "code",
   "execution_count": 6,
   "metadata": {},
   "outputs": [],
   "source": [
    "df[\"datetime\"] = df['Date'].apply(str_to_dt)"
   ]
  },
  {
   "cell_type": "code",
   "execution_count": 7,
   "metadata": {},
   "outputs": [],
   "source": [
    "pp_df = df[(df['Account Name'] == 'PayPal Account')]"
   ]
  },
  {
   "cell_type": "code",
   "execution_count": 8,
   "metadata": {},
   "outputs": [],
   "source": [
    "cols_2_hide = ['Description','Original Description']\n",
    "pp_df = pp_df.drop(cols_2_hide, axis=1)"
   ]
  },
  {
   "cell_type": "markdown",
   "metadata": {},
   "source": [
    "*Note: This does not include paypal fees*"
   ]
  },
  {
   "cell_type": "markdown",
   "metadata": {},
   "source": [
    "# Membership income from March 2020"
   ]
  },
  {
   "cell_type": "code",
   "execution_count": 9,
   "metadata": {},
   "outputs": [],
   "source": [
    "march_df = pp_df[ (pp_df['datetime']>pd.Timestamp(2020,3,1)) & (pp_df['datetime']<pd.Timestamp(2020,3,30)) ]\n",
    "march_df_inc = march_df[(march_df['Category'] == 'Income')]\n",
    "march_df_fees = march_df[(march_df['Category'] == 'Fees & Charges')]\n",
    "march_inc_by_day = march_df_inc.groupby(\"Date\")['Amount'].sum()"
   ]
  },
  {
   "cell_type": "markdown",
   "metadata": {},
   "source": [
    "## Number of membership income transactions"
   ]
  },
  {
   "cell_type": "code",
   "execution_count": 10,
   "metadata": {
    "scrolled": true
   },
   "outputs": [
    {
     "name": "stdout",
     "output_type": "stream",
     "text": [
      "Total: 23\n",
      "\n",
      "15 indivual memberships\n",
      "6 starving maker memberships\n",
      "2 family memberships\n"
     ]
    }
   ],
   "source": [
    "march_count = march_df_inc.loc[(march_df['Amount'] > 10.0)]['Date'].count()\n",
    "print('Total: %d\\n' % (march_count))\n",
    "\n",
    "Num_startving = march_df_inc.loc[(march_df['Amount'] == 25.0)]['Date'].count()\n",
    "Num_individual = march_df_inc.loc[(march_df['Amount'] == 50.0)]['Date'].count()\n",
    "Num_family = march_df_inc.loc[(march_df['Amount'] == 80.0)]['Date'].count()\n",
    "\n",
    "print('%d indivual memberships\\n%d starving maker memberships\\n%d family memberships' % (Num_individual, Num_startving, Num_family))"
   ]
  },
  {
   "cell_type": "markdown",
   "metadata": {},
   "source": [
    "### Other transactions"
   ]
  },
  {
   "cell_type": "code",
   "execution_count": 11,
   "metadata": {},
   "outputs": [
    {
     "data": {
      "text/html": [
       "<div>\n",
       "<style scoped>\n",
       "    .dataframe tbody tr th:only-of-type {\n",
       "        vertical-align: middle;\n",
       "    }\n",
       "\n",
       "    .dataframe tbody tr th {\n",
       "        vertical-align: top;\n",
       "    }\n",
       "\n",
       "    .dataframe thead th {\n",
       "        text-align: right;\n",
       "    }\n",
       "</style>\n",
       "<table border=\"1\" class=\"dataframe\">\n",
       "  <thead>\n",
       "    <tr style=\"text-align: right;\">\n",
       "      <th></th>\n",
       "      <th>Date</th>\n",
       "      <th>Amount</th>\n",
       "      <th>Transaction Type</th>\n",
       "      <th>Category</th>\n",
       "      <th>Account Name</th>\n",
       "      <th>Labels</th>\n",
       "      <th>Notes</th>\n",
       "      <th>datetime</th>\n",
       "    </tr>\n",
       "  </thead>\n",
       "  <tbody>\n",
       "    <tr>\n",
       "      <th>114</th>\n",
       "      <td>3/22/2020</td>\n",
       "      <td>10.0</td>\n",
       "      <td>credit</td>\n",
       "      <td>Income</td>\n",
       "      <td>PayPal Account</td>\n",
       "      <td>NaN</td>\n",
       "      <td>NaN</td>\n",
       "      <td>2020-03-22</td>\n",
       "    </tr>\n",
       "  </tbody>\n",
       "</table>\n",
       "</div>"
      ],
      "text/plain": [
       "          Date  Amount Transaction Type Category    Account Name  Labels  \\\n",
       "114  3/22/2020    10.0           credit   Income  PayPal Account     NaN   \n",
       "\n",
       "     Notes   datetime  \n",
       "114    NaN 2020-03-22  "
      ]
     },
     "execution_count": 11,
     "metadata": {},
     "output_type": "execute_result"
    }
   ],
   "source": [
    "march_df_inc.loc[(march_df['Amount'] != 25.0) & (march_df['Amount'] != 50.0) & (march_df['Amount'] != 80.0)]"
   ]
  },
  {
   "cell_type": "markdown",
   "metadata": {},
   "source": [
    "## Total membership income"
   ]
  },
  {
   "cell_type": "code",
   "execution_count": 12,
   "metadata": {
    "scrolled": true
   },
   "outputs": [
    {
     "name": "stdout",
     "output_type": "stream",
     "text": [
      "$1070\n"
     ]
    }
   ],
   "source": [
    "march_inc = march_df_inc[\"Amount\"].sum()\n",
    "print('$%d' % (march_inc))"
   ]
  },
  {
   "cell_type": "markdown",
   "metadata": {},
   "source": [
    "## Membership income by date"
   ]
  },
  {
   "cell_type": "code",
   "execution_count": 13,
   "metadata": {},
   "outputs": [
    {
     "data": {
      "text/html": [
       "<div>\n",
       "<style scoped>\n",
       "    .dataframe tbody tr th:only-of-type {\n",
       "        vertical-align: middle;\n",
       "    }\n",
       "\n",
       "    .dataframe tbody tr th {\n",
       "        vertical-align: top;\n",
       "    }\n",
       "\n",
       "    .dataframe thead th {\n",
       "        text-align: right;\n",
       "    }\n",
       "</style>\n",
       "<table border=\"1\" class=\"dataframe\">\n",
       "  <thead>\n",
       "    <tr style=\"text-align: right;\">\n",
       "      <th></th>\n",
       "      <th>Amount</th>\n",
       "    </tr>\n",
       "    <tr>\n",
       "      <th>Date</th>\n",
       "      <th></th>\n",
       "    </tr>\n",
       "  </thead>\n",
       "  <tbody>\n",
       "    <tr>\n",
       "      <th>3/02/2020</th>\n",
       "      <td>130.0</td>\n",
       "    </tr>\n",
       "    <tr>\n",
       "      <th>3/03/2020</th>\n",
       "      <td>100.0</td>\n",
       "    </tr>\n",
       "    <tr>\n",
       "      <th>3/06/2020</th>\n",
       "      <td>50.0</td>\n",
       "    </tr>\n",
       "    <tr>\n",
       "      <th>3/07/2020</th>\n",
       "      <td>50.0</td>\n",
       "    </tr>\n",
       "    <tr>\n",
       "      <th>3/09/2020</th>\n",
       "      <td>100.0</td>\n",
       "    </tr>\n",
       "    <tr>\n",
       "      <th>3/10/2020</th>\n",
       "      <td>50.0</td>\n",
       "    </tr>\n",
       "    <tr>\n",
       "      <th>3/11/2020</th>\n",
       "      <td>75.0</td>\n",
       "    </tr>\n",
       "    <tr>\n",
       "      <th>3/13/2020</th>\n",
       "      <td>50.0</td>\n",
       "    </tr>\n",
       "    <tr>\n",
       "      <th>3/15/2020</th>\n",
       "      <td>25.0</td>\n",
       "    </tr>\n",
       "    <tr>\n",
       "      <th>3/17/2020</th>\n",
       "      <td>75.0</td>\n",
       "    </tr>\n",
       "    <tr>\n",
       "      <th>3/18/2020</th>\n",
       "      <td>50.0</td>\n",
       "    </tr>\n",
       "    <tr>\n",
       "      <th>3/20/2020</th>\n",
       "      <td>105.0</td>\n",
       "    </tr>\n",
       "    <tr>\n",
       "      <th>3/22/2020</th>\n",
       "      <td>60.0</td>\n",
       "    </tr>\n",
       "    <tr>\n",
       "      <th>3/25/2020</th>\n",
       "      <td>50.0</td>\n",
       "    </tr>\n",
       "    <tr>\n",
       "      <th>3/26/2020</th>\n",
       "      <td>50.0</td>\n",
       "    </tr>\n",
       "    <tr>\n",
       "      <th>3/28/2020</th>\n",
       "      <td>50.0</td>\n",
       "    </tr>\n",
       "  </tbody>\n",
       "</table>\n",
       "</div>"
      ],
      "text/plain": [
       "           Amount\n",
       "Date             \n",
       "3/02/2020   130.0\n",
       "3/03/2020   100.0\n",
       "3/06/2020    50.0\n",
       "3/07/2020    50.0\n",
       "3/09/2020   100.0\n",
       "3/10/2020    50.0\n",
       "3/11/2020    75.0\n",
       "3/13/2020    50.0\n",
       "3/15/2020    25.0\n",
       "3/17/2020    75.0\n",
       "3/18/2020    50.0\n",
       "3/20/2020   105.0\n",
       "3/22/2020    60.0\n",
       "3/25/2020    50.0\n",
       "3/26/2020    50.0\n",
       "3/28/2020    50.0"
      ]
     },
     "execution_count": 13,
     "metadata": {},
     "output_type": "execute_result"
    }
   ],
   "source": [
    "pd.DataFrame(march_inc_by_day)"
   ]
  },
  {
   "cell_type": "code",
   "execution_count": null,
   "metadata": {},
   "outputs": [],
   "source": []
  },
  {
   "cell_type": "markdown",
   "metadata": {},
   "source": [
    "# Membership income from April 2020"
   ]
  },
  {
   "cell_type": "code",
   "execution_count": 14,
   "metadata": {},
   "outputs": [],
   "source": [
    "april_df = pp_df[ (pp_df['datetime']>pd.Timestamp(2020,4,1)) & (pp_df['datetime']<pd.Timestamp(2020,4,30)) ]\n",
    "april_df_inc = april_df[(april_df['Category'] == 'Income')]\n",
    "april_df_fees = april_df[(april_df['Category'] == 'Fees & Charges')]\n",
    "april_inc_by_day = april_df_inc.groupby(\"Date\")['Amount'].sum()"
   ]
  },
  {
   "cell_type": "markdown",
   "metadata": {},
   "source": [
    "## Number of membership income transactions"
   ]
  },
  {
   "cell_type": "code",
   "execution_count": 15,
   "metadata": {},
   "outputs": [
    {
     "name": "stdout",
     "output_type": "stream",
     "text": [
      "Total: 22 (-1)\n",
      "\n",
      "15 indivual memberships\n",
      "4 starving maker memberships\n",
      "2 family memberships\n"
     ]
    }
   ],
   "source": [
    "april_count = april_df_inc.loc[(april_df['Amount'] > 10.0)]['Date'].count()\n",
    "\n",
    "print('Total: %d (%d)\\n' % (april_count, april_count - march_count))\n",
    "\n",
    "Num_startving = april_df_inc.loc[(april_df['Amount'] == 25.0)]['Date'].count()\n",
    "Num_individual = april_df_inc.loc[(april_df['Amount'] == 50.0)]['Date'].count()\n",
    "Num_family = april_df_inc.loc[(april_df['Amount'] == 80.0)]['Date'].count()\n",
    "\n",
    "print('%d indivual memberships\\n%d starving maker memberships\\n%d family memberships' % (Num_individual, Num_startving, Num_family))"
   ]
  },
  {
   "cell_type": "markdown",
   "metadata": {},
   "source": [
    "### Other transactions"
   ]
  },
  {
   "cell_type": "code",
   "execution_count": 16,
   "metadata": {},
   "outputs": [
    {
     "data": {
      "text/html": [
       "<div>\n",
       "<style scoped>\n",
       "    .dataframe tbody tr th:only-of-type {\n",
       "        vertical-align: middle;\n",
       "    }\n",
       "\n",
       "    .dataframe tbody tr th {\n",
       "        vertical-align: top;\n",
       "    }\n",
       "\n",
       "    .dataframe thead th {\n",
       "        text-align: right;\n",
       "    }\n",
       "</style>\n",
       "<table border=\"1\" class=\"dataframe\">\n",
       "  <thead>\n",
       "    <tr style=\"text-align: right;\">\n",
       "      <th></th>\n",
       "      <th>Date</th>\n",
       "      <th>Amount</th>\n",
       "      <th>Transaction Type</th>\n",
       "      <th>Category</th>\n",
       "      <th>Account Name</th>\n",
       "      <th>Labels</th>\n",
       "      <th>Notes</th>\n",
       "      <th>datetime</th>\n",
       "    </tr>\n",
       "  </thead>\n",
       "  <tbody>\n",
       "    <tr>\n",
       "      <th>60</th>\n",
       "      <td>4/22/2020</td>\n",
       "      <td>10.0</td>\n",
       "      <td>credit</td>\n",
       "      <td>Income</td>\n",
       "      <td>PayPal Account</td>\n",
       "      <td>NaN</td>\n",
       "      <td>NaN</td>\n",
       "      <td>2020-04-22</td>\n",
       "    </tr>\n",
       "    <tr>\n",
       "      <th>91</th>\n",
       "      <td>4/06/2020</td>\n",
       "      <td>350.0</td>\n",
       "      <td>credit</td>\n",
       "      <td>Income</td>\n",
       "      <td>PayPal Account</td>\n",
       "      <td>NaN</td>\n",
       "      <td>NaN</td>\n",
       "      <td>2020-04-06</td>\n",
       "    </tr>\n",
       "  </tbody>\n",
       "</table>\n",
       "</div>"
      ],
      "text/plain": [
       "         Date  Amount Transaction Type Category    Account Name  Labels  \\\n",
       "60  4/22/2020    10.0           credit   Income  PayPal Account     NaN   \n",
       "91  4/06/2020   350.0           credit   Income  PayPal Account     NaN   \n",
       "\n",
       "    Notes   datetime  \n",
       "60    NaN 2020-04-22  \n",
       "91    NaN 2020-04-06  "
      ]
     },
     "execution_count": 16,
     "metadata": {},
     "output_type": "execute_result"
    }
   ],
   "source": [
    "april_df_inc.loc[(april_df['Amount'] != 25.0) & (april_df['Amount'] != 50.0) & (april_df['Amount'] != 80.0)]"
   ]
  },
  {
   "cell_type": "markdown",
   "metadata": {},
   "source": [
    "## Total april membership income"
   ]
  },
  {
   "cell_type": "code",
   "execution_count": 17,
   "metadata": {
    "scrolled": true
   },
   "outputs": [
    {
     "name": "stdout",
     "output_type": "stream",
     "text": [
      "$1370 (+300)\n"
     ]
    }
   ],
   "source": [
    "april_inc = april_df_inc[\"Amount\"].sum()\n",
    "print('$%d (%+d)' % (april_inc, april_inc-march_inc))"
   ]
  },
  {
   "cell_type": "markdown",
   "metadata": {},
   "source": [
    "## Membership income by date for april"
   ]
  },
  {
   "cell_type": "code",
   "execution_count": 18,
   "metadata": {},
   "outputs": [
    {
     "data": {
      "text/html": [
       "<div>\n",
       "<style scoped>\n",
       "    .dataframe tbody tr th:only-of-type {\n",
       "        vertical-align: middle;\n",
       "    }\n",
       "\n",
       "    .dataframe tbody tr th {\n",
       "        vertical-align: top;\n",
       "    }\n",
       "\n",
       "    .dataframe thead th {\n",
       "        text-align: right;\n",
       "    }\n",
       "</style>\n",
       "<table border=\"1\" class=\"dataframe\">\n",
       "  <thead>\n",
       "    <tr style=\"text-align: right;\">\n",
       "      <th></th>\n",
       "      <th>Amount</th>\n",
       "    </tr>\n",
       "    <tr>\n",
       "      <th>Date</th>\n",
       "      <th></th>\n",
       "    </tr>\n",
       "  </thead>\n",
       "  <tbody>\n",
       "    <tr>\n",
       "      <th>4/02/2020</th>\n",
       "      <td>180.0</td>\n",
       "    </tr>\n",
       "    <tr>\n",
       "      <th>4/03/2020</th>\n",
       "      <td>50.0</td>\n",
       "    </tr>\n",
       "    <tr>\n",
       "      <th>4/06/2020</th>\n",
       "      <td>400.0</td>\n",
       "    </tr>\n",
       "    <tr>\n",
       "      <th>4/07/2020</th>\n",
       "      <td>50.0</td>\n",
       "    </tr>\n",
       "    <tr>\n",
       "      <th>4/09/2020</th>\n",
       "      <td>100.0</td>\n",
       "    </tr>\n",
       "    <tr>\n",
       "      <th>4/10/2020</th>\n",
       "      <td>50.0</td>\n",
       "    </tr>\n",
       "    <tr>\n",
       "      <th>4/11/2020</th>\n",
       "      <td>50.0</td>\n",
       "    </tr>\n",
       "    <tr>\n",
       "      <th>4/13/2020</th>\n",
       "      <td>50.0</td>\n",
       "    </tr>\n",
       "    <tr>\n",
       "      <th>4/15/2020</th>\n",
       "      <td>25.0</td>\n",
       "    </tr>\n",
       "    <tr>\n",
       "      <th>4/17/2020</th>\n",
       "      <td>75.0</td>\n",
       "    </tr>\n",
       "    <tr>\n",
       "      <th>4/18/2020</th>\n",
       "      <td>50.0</td>\n",
       "    </tr>\n",
       "    <tr>\n",
       "      <th>4/20/2020</th>\n",
       "      <td>80.0</td>\n",
       "    </tr>\n",
       "    <tr>\n",
       "      <th>4/22/2020</th>\n",
       "      <td>60.0</td>\n",
       "    </tr>\n",
       "    <tr>\n",
       "      <th>4/25/2020</th>\n",
       "      <td>50.0</td>\n",
       "    </tr>\n",
       "    <tr>\n",
       "      <th>4/26/2020</th>\n",
       "      <td>50.0</td>\n",
       "    </tr>\n",
       "    <tr>\n",
       "      <th>4/28/2020</th>\n",
       "      <td>50.0</td>\n",
       "    </tr>\n",
       "  </tbody>\n",
       "</table>\n",
       "</div>"
      ],
      "text/plain": [
       "           Amount\n",
       "Date             \n",
       "4/02/2020   180.0\n",
       "4/03/2020    50.0\n",
       "4/06/2020   400.0\n",
       "4/07/2020    50.0\n",
       "4/09/2020   100.0\n",
       "4/10/2020    50.0\n",
       "4/11/2020    50.0\n",
       "4/13/2020    50.0\n",
       "4/15/2020    25.0\n",
       "4/17/2020    75.0\n",
       "4/18/2020    50.0\n",
       "4/20/2020    80.0\n",
       "4/22/2020    60.0\n",
       "4/25/2020    50.0\n",
       "4/26/2020    50.0\n",
       "4/28/2020    50.0"
      ]
     },
     "execution_count": 18,
     "metadata": {},
     "output_type": "execute_result"
    }
   ],
   "source": [
    "pd.DataFrame(april_inc_by_day)"
   ]
  },
  {
   "cell_type": "code",
   "execution_count": null,
   "metadata": {},
   "outputs": [],
   "source": []
  },
  {
   "cell_type": "markdown",
   "metadata": {},
   "source": [
    "# Membership income from May 2020"
   ]
  },
  {
   "cell_type": "code",
   "execution_count": 19,
   "metadata": {},
   "outputs": [],
   "source": [
    "may_df = pp_df[ (pp_df['datetime']>pd.Timestamp(2020,5,1)) & (pp_df['datetime']<pd.Timestamp(2020,5,31)) ]\n",
    "may_df_inc = may_df[(may_df['Category'] == 'Income')]\n",
    "may_df_fees = may_df[(may_df['Category'] == 'Fees & Charges')]\n",
    "may_inc_by_day = may_df_inc.groupby(\"Date\")['Amount'].sum()"
   ]
  },
  {
   "cell_type": "markdown",
   "metadata": {},
   "source": [
    "## Number of membership income transactions"
   ]
  },
  {
   "cell_type": "code",
   "execution_count": 20,
   "metadata": {},
   "outputs": [
    {
     "name": "stdout",
     "output_type": "stream",
     "text": [
      "Total: 22 (-1)\n",
      "\n",
      "16 indivual memberships\n",
      "4 starving maker memberships\n",
      "2 family memberships\n"
     ]
    }
   ],
   "source": [
    "may_count = may_df_inc.loc[(may_df['Amount'] > 10.0)]['Date'].count()\n",
    "\n",
    "print('Total: %d (%d)\\n' % (may_count, may_count - march_count))\n",
    "\n",
    "Num_startving = may_df_inc.loc[(may_df['Amount'] == 25.0)]['Date'].count()\n",
    "Num_individual = may_df_inc.loc[(may_df['Amount'] == 50.0)]['Date'].count()\n",
    "Num_family = may_df_inc.loc[(may_df['Amount'] == 80.0)]['Date'].count()\n",
    "\n",
    "print('%d indivual memberships\\n%d starving maker memberships\\n%d family memberships' % (Num_individual, Num_startving, Num_family))"
   ]
  },
  {
   "cell_type": "markdown",
   "metadata": {},
   "source": [
    "### Other transactions"
   ]
  },
  {
   "cell_type": "code",
   "execution_count": 21,
   "metadata": {},
   "outputs": [
    {
     "data": {
      "text/html": [
       "<div>\n",
       "<style scoped>\n",
       "    .dataframe tbody tr th:only-of-type {\n",
       "        vertical-align: middle;\n",
       "    }\n",
       "\n",
       "    .dataframe tbody tr th {\n",
       "        vertical-align: top;\n",
       "    }\n",
       "\n",
       "    .dataframe thead th {\n",
       "        text-align: right;\n",
       "    }\n",
       "</style>\n",
       "<table border=\"1\" class=\"dataframe\">\n",
       "  <thead>\n",
       "    <tr style=\"text-align: right;\">\n",
       "      <th></th>\n",
       "      <th>Date</th>\n",
       "      <th>Amount</th>\n",
       "      <th>Transaction Type</th>\n",
       "      <th>Category</th>\n",
       "      <th>Account Name</th>\n",
       "      <th>Labels</th>\n",
       "      <th>Notes</th>\n",
       "      <th>datetime</th>\n",
       "    </tr>\n",
       "  </thead>\n",
       "  <tbody>\n",
       "    <tr>\n",
       "      <th>8</th>\n",
       "      <td>5/22/2020</td>\n",
       "      <td>10.0</td>\n",
       "      <td>credit</td>\n",
       "      <td>Income</td>\n",
       "      <td>PayPal Account</td>\n",
       "      <td>NaN</td>\n",
       "      <td>NaN</td>\n",
       "      <td>2020-05-22</td>\n",
       "    </tr>\n",
       "  </tbody>\n",
       "</table>\n",
       "</div>"
      ],
      "text/plain": [
       "        Date  Amount Transaction Type Category    Account Name  Labels  Notes  \\\n",
       "8  5/22/2020    10.0           credit   Income  PayPal Account     NaN    NaN   \n",
       "\n",
       "    datetime  \n",
       "8 2020-05-22  "
      ]
     },
     "execution_count": 21,
     "metadata": {},
     "output_type": "execute_result"
    }
   ],
   "source": [
    "may_df_inc.loc[(may_df['Amount'] != 25.0) & (may_df['Amount'] != 50.0) & (may_df['Amount'] != 80.0)]"
   ]
  },
  {
   "cell_type": "markdown",
   "metadata": {},
   "source": [
    "## Total membership income"
   ]
  },
  {
   "cell_type": "code",
   "execution_count": 22,
   "metadata": {},
   "outputs": [
    {
     "name": "stdout",
     "output_type": "stream",
     "text": [
      "$1070 (-300)\n"
     ]
    }
   ],
   "source": [
    "may_inc = may_df_inc[\"Amount\"].sum()\n",
    "print('$%d (%+d)' % (may_inc, may_inc-april_inc))"
   ]
  },
  {
   "cell_type": "markdown",
   "metadata": {},
   "source": [
    "## Membership income by date"
   ]
  },
  {
   "cell_type": "code",
   "execution_count": 23,
   "metadata": {},
   "outputs": [
    {
     "data": {
      "text/html": [
       "<div>\n",
       "<style scoped>\n",
       "    .dataframe tbody tr th:only-of-type {\n",
       "        vertical-align: middle;\n",
       "    }\n",
       "\n",
       "    .dataframe tbody tr th {\n",
       "        vertical-align: top;\n",
       "    }\n",
       "\n",
       "    .dataframe thead th {\n",
       "        text-align: right;\n",
       "    }\n",
       "</style>\n",
       "<table border=\"1\" class=\"dataframe\">\n",
       "  <thead>\n",
       "    <tr style=\"text-align: right;\">\n",
       "      <th></th>\n",
       "      <th>Amount</th>\n",
       "    </tr>\n",
       "    <tr>\n",
       "      <th>Date</th>\n",
       "      <th></th>\n",
       "    </tr>\n",
       "  </thead>\n",
       "  <tbody>\n",
       "    <tr>\n",
       "      <th>5/02/2020</th>\n",
       "      <td>180.0</td>\n",
       "    </tr>\n",
       "    <tr>\n",
       "      <th>5/03/2020</th>\n",
       "      <td>50.0</td>\n",
       "    </tr>\n",
       "    <tr>\n",
       "      <th>5/06/2020</th>\n",
       "      <td>100.0</td>\n",
       "    </tr>\n",
       "    <tr>\n",
       "      <th>5/07/2020</th>\n",
       "      <td>50.0</td>\n",
       "    </tr>\n",
       "    <tr>\n",
       "      <th>5/09/2020</th>\n",
       "      <td>100.0</td>\n",
       "    </tr>\n",
       "    <tr>\n",
       "      <th>5/10/2020</th>\n",
       "      <td>50.0</td>\n",
       "    </tr>\n",
       "    <tr>\n",
       "      <th>5/11/2020</th>\n",
       "      <td>50.0</td>\n",
       "    </tr>\n",
       "    <tr>\n",
       "      <th>5/13/2020</th>\n",
       "      <td>50.0</td>\n",
       "    </tr>\n",
       "    <tr>\n",
       "      <th>5/15/2020</th>\n",
       "      <td>25.0</td>\n",
       "    </tr>\n",
       "    <tr>\n",
       "      <th>5/17/2020</th>\n",
       "      <td>75.0</td>\n",
       "    </tr>\n",
       "    <tr>\n",
       "      <th>5/18/2020</th>\n",
       "      <td>50.0</td>\n",
       "    </tr>\n",
       "    <tr>\n",
       "      <th>5/20/2020</th>\n",
       "      <td>80.0</td>\n",
       "    </tr>\n",
       "    <tr>\n",
       "      <th>5/22/2020</th>\n",
       "      <td>60.0</td>\n",
       "    </tr>\n",
       "    <tr>\n",
       "      <th>5/25/2020</th>\n",
       "      <td>50.0</td>\n",
       "    </tr>\n",
       "    <tr>\n",
       "      <th>5/26/2020</th>\n",
       "      <td>50.0</td>\n",
       "    </tr>\n",
       "    <tr>\n",
       "      <th>5/28/2020</th>\n",
       "      <td>50.0</td>\n",
       "    </tr>\n",
       "  </tbody>\n",
       "</table>\n",
       "</div>"
      ],
      "text/plain": [
       "           Amount\n",
       "Date             \n",
       "5/02/2020   180.0\n",
       "5/03/2020    50.0\n",
       "5/06/2020   100.0\n",
       "5/07/2020    50.0\n",
       "5/09/2020   100.0\n",
       "5/10/2020    50.0\n",
       "5/11/2020    50.0\n",
       "5/13/2020    50.0\n",
       "5/15/2020    25.0\n",
       "5/17/2020    75.0\n",
       "5/18/2020    50.0\n",
       "5/20/2020    80.0\n",
       "5/22/2020    60.0\n",
       "5/25/2020    50.0\n",
       "5/26/2020    50.0\n",
       "5/28/2020    50.0"
      ]
     },
     "execution_count": 23,
     "metadata": {},
     "output_type": "execute_result"
    }
   ],
   "source": [
    "pd.DataFrame(may_inc_by_day)"
   ]
  },
  {
   "cell_type": "markdown",
   "metadata": {},
   "source": [
    "# Monthly cumulative income comparison"
   ]
  },
  {
   "cell_type": "code",
   "execution_count": 24,
   "metadata": {},
   "outputs": [],
   "source": [
    "march_df = march_inc_by_day.to_frame().reset_index()\n",
    "march_df[\"dom\"] = march_df['Date'].apply(str_to_dom)\n",
    "march_dom_amnt = march_df.groupby(\"dom\")['Amount'].sum()"
   ]
  },
  {
   "cell_type": "code",
   "execution_count": 25,
   "metadata": {},
   "outputs": [],
   "source": [
    "april_df = april_inc_by_day.to_frame().reset_index()\n",
    "april_df[\"dom\"] = april_df['Date'].apply(str_to_dom)\n",
    "april_dom_amnt = april_df.groupby(\"dom\")['Amount'].sum()"
   ]
  },
  {
   "cell_type": "code",
   "execution_count": 26,
   "metadata": {},
   "outputs": [],
   "source": [
    "may_df = may_inc_by_day.to_frame().reset_index()\n",
    "may_df[\"dom\"] = may_df['Date'].apply(str_to_dom)\n",
    "may_dom_amnt = may_df.groupby(\"dom\")['Amount'].sum()"
   ]
  },
  {
   "cell_type": "code",
   "execution_count": 27,
   "metadata": {},
   "outputs": [
    {
     "data": {
      "image/png": "[encoded data removed]",
      "text/plain": [
       "<Figure size 1080x504 with 1 Axes>"
      ]
     },
     "metadata": {
      "needs_background": "light"
     },
     "output_type": "display_data"
    }
   ],
   "source": [
    "plt.plot(march_dom_amnt.cumsum(), marker='.', label='march')\n",
    "plt.plot(april_dom_amnt.cumsum(), marker='.', label='april')\n",
    "plt.plot(may_dom_amnt.cumsum(), marker='.', label='may')\n",
    "plt.title('Cumulative Member Income by day of month')\n",
    "plt.xlabel('day of month')\n",
    "plt.ylabel('Cumulative membership income')\n",
    "plt.legend()\n",
    "plt.grid(True)"
   ]
  },
  {
   "cell_type": "code",
   "execution_count": null,
   "metadata": {},
   "outputs": [],
   "source": []
  },
  {
   "cell_type": "code",
   "execution_count": null,
   "metadata": {},
   "outputs": [],
   "source": []
  }
 ],
 "metadata": {
  "kernelspec": {
   "display_name": "Python 3",
   "language": "python",
   "name": "python3"
  },
  "language_info": {
   "codemirror_mode": {
    "name": "ipython",
    "version": 3
   },
   "file_extension": ".py",
   "mimetype": "text/x-python",
   "name": "python",
   "nbconvert_exporter": "python",
   "pygments_lexer": "ipython3",
   "version": "3.7.6"
  }
 },
 "nbformat": 4,
 "nbformat_minor": 4
}
